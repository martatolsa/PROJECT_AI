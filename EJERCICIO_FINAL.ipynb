{
  "cells": [
    {
      "cell_type": "markdown",
      "metadata": {
        "id": "view-in-github",
        "colab_type": "text"
      },
      "source": [
        "<a href=\"https://colab.research.google.com/github/martatolsa/PROJECT_AI/blob/main/EJERCICIO_FINAL.ipynb\" target=\"_parent\"><img src=\"https://colab.research.google.com/assets/colab-badge.svg\" alt=\"Open In Colab\"/></a>"
      ]
    },
    {
      "cell_type": "markdown",
      "id": "309996e2",
      "metadata": {
        "id": "309996e2"
      },
      "source": [
        "# Enunciado\n",
        "\n",
        "El ejercicio de evaluación final va a tratar sobre clasificación de imagen. Para esta ocasión, se van a crear **múltiples clasificadores sobre imágenes que representen escenas o paisajes**. Los datos que se van a emplear fueron publicados por Intel para competiciones de clasificación de imagen. La fuente original de los datos puede encontrarse aquí: https://www.kaggle.com/datasets/puneet6060/intel-image-classification\n",
        "\n",
        "Los modelos realizarán clasificación multiclase, ya que **cada imagen puede contener seis etiquetas** diferentes que son las que siguen:\n",
        "\n",
        "- 0 Buildings.\n",
        "- 1 Forest.\n",
        "- 2 Glacier.\n",
        "- 3 Mountain.\n",
        "- 4 Sea.\n",
        "- 5 Street.\n",
        "\n",
        "La estructura de archivos que se pueden encontrar en los datos de la práctica final es la siguiente:\n",
        "\n",
        "1. -Archive\n",
        "    - Seg_pred\n",
        "        - Seg_pred (7301 archivos)\n",
        "            - 3.jpg\n",
        "            - 5.jpg\n",
        "            - …\n",
        "            - 24333.jpg\n",
        "    - Seg_test\n",
        "        - Seg_test\n",
        "            - Buildings (437 archivos)\n",
        "                - 20057.jpg\n",
        "                - …\n",
        "            - Forest (474 archivos)\n",
        "            - Glacier (553 archivos)\n",
        "            - Mountain (525 archivos)\n",
        "            - Sea (510 archivos)\n",
        "            - Street (501 archivos)\n",
        "    - Seg_train\n",
        "        - Seg_train\n",
        "            - Buildings (2191 archivos)\n",
        "            - Forest (2271 archivos)\n",
        "            - Glacier (2404 archivos)\n",
        "            - Mountain (2512 archivos)\n",
        "            - Sea (2274 archivos)\n",
        "            - Street (2382 archivos)\n",
        "\n",
        "Los datos totales sobre las imágenes pertenecen a **14 000 imágenes para train, 3000 para test y 7000 en predicción** (aunque, al no estar provista de etiqueta, no se va a hacer uso de esta última); por lo tanto, el conjunto de datos es de **24 000 imágenes**.\n",
        "\n",
        "Respecto a cada imagen, todas tienen una **estructura de 150 x 150 píxeles**. La idea con los múltiples clasificadores es poner en práctica lo que se ha aprendido durante el módulo, es decir:\n",
        "- aplicar redes convolucionales\n",
        "- realizar transfer learning\n",
        "- saber optimizar y seleccionar los parámetros de una red\n",
        "y, adicionalmente,\n",
        "- superar un nuevo reto que no se ha trabajado de forma automática en el módulo: aumentar los datos.\n",
        "\n",
        "Durante el módulo, se ha trabajado con OpenCV, por lo que el alumnado debería saber manejar los tres channels de una imagen; pues se ha explicado cómo aplicar filtros para cambiar el color, recortar, redimensionar, rotar y, en definitiva, modificar una imagen. Si a cada imagen se le hacen varias modificaciones y se agrega tanto la original como las modificadas al dataset, se estaría realizando un aumento de datos, no obstante hay funciones que hacen esto de forma automática, por lo que, habrá que aprender en la práctica final a utilizar una **nueva función de Keras, ImageDataGenerator**(https://www.tensorflow.org/api_docs/python/tf/keras/preprocessing/image/ImageDataGenerator). Puesto que es muy habitual en proyectos reales, tener que adaptarse y comprender nuevas funciones de estos frameworks de deep learning, la idea es que el alumnado simule una situación de proyectos reales).\n",
        "\n",
        "\n",
        "# Se pide\n",
        "\n",
        "Por lo tanto, el objetivo final del caso práctico es establecer una **comparativa de modelos para ver cuál ofrece mayor rendimiento (accuracy) en test y en validación**; la elección de cuántos modelos implementar y sus configuraciones es libre, pero **como mínimo han de implementarse los siguientes cinco modelos** sobre los que establecer la comparativa:\n",
        "\n",
        "1. **Modelo base basado en redes neuronales convolucionales**: la arquitectura CNN de este modelo es libre, pero al menos debe tener **una capa convolucional y una capa pooling** (de libre elección el tipo de pooling) **antes de la capa densa de salida**. En el siguiente apartado se implementará de forma más compleja.\n",
        "\n",
        "2. **Modelo aumentado sobre el modelo base**: es decir, que añade más capas a la arquitectura convolucional anterior.\n",
        "\n",
        "3. **Modelo basado en hyperparameter tuning a través de keras_tuner**: en este modelo se pueden trabajar parámetros de regularización (L1 y L2), inicialización de pesos, funciones de activación, añadir sí o no dropout, etc. La elección de los hiperparámetros es libre, pero se aplicará al segundo modelo, es decir, al que se ha añadido más capas sobre el modelo base.\n",
        "\n",
        "4. **Modelo basado en transfer learning**: el modelo preentrenado sobre el que cargar los pesos de la red es libre, siempre y cuando se elija cualquiera deKeras (https://keras.io/api/applications/). Se puede escoger realizar tanto featureextraction como fine-tuning, aunque se valorará más positivamente (dadala complejidad de congelar capas de entrenamiento) realizar fine-tuning.\n",
        "\n",
        "5. **Modelo basado en aumento de datos sobre cualquiera de los cuatro modelos implementados anteriormente** (se aconseja sobre el modelo que mayor score haya devuelto la función evaluate). Para el aumento de datos, debe emplearse lafunción ImageDataGenerator, la elección de parámetros en ImageDataGeneratores libre.\n",
        "\n",
        "6. Cualquier otro modelo que el alumno desee implementar y añadir a la comparativa(opcional).\n",
        "\n",
        "Se aconseja, para todos los modelos, **mostrar predicciones (desde imshow)**.\n",
        "\n",
        "Para todos los modelos, se tomará un **20 % de la muestra como conjunto de validación** (se puede generar un nuevo conjunto de validación o tomar el parámetro validation_split = 0,20).\n",
        "\n",
        "De forma obligatoria todas las imágenes de seg_test y seg_train (no se cargará seg_pred) formarán el conjunto completo de datos, una vez que se tengan estos, se tomará un 75 % para train y un 25 % para test.\n",
        "\n",
        "Igualmente, los modelos del uno al cinco han de implementarse desde Keras; si el alumnado desea realizar más modelos opcionales puede utilizar, además de esta, otras librerías de deep learning para Python, como TensorFlow en su abstracción a bajo nivel, Theano, PyTorch o similares.\n",
        "\n",
        "Al finalizar el ejercicio se mostrará una gráfica comparativa como la siguiente sobre el validation accuracy, obtenido por los modelos:\n",
        "\n",
        "![cp1.png](attachment:cp1.png)\n",
        "\n",
        "Y una tabla comparativa como la siguiente con el resultado de la función evaluate en test de todos los modelos:\n",
        "\n",
        "  | Model_Name    | Test_Accuracy\n",
        "0 | base_model    | 0.69\n",
        "1 | advance_model | 0.78\n",
        "2 | hp            | 0.81\n",
        "3 | fine_tuning   | 0.91\n",
        "4 | data_aug      | 0.09\n",
        "\n",
        "## Nota:\n",
        "\n",
        "- Los parámetros de configuración de la red como número de filtros en capas convolucionales, tamaño del kernel, desplazamiento del kernel o stride son libres, así como los parámetros de las capas de pooling y valores de padding. Por supuesto, también es libre la elección del número de neuronas de las capas densas al aplanar resultados, antes de la capa de salida final, y el optimizador también es de elección libre. No obstante, dada la naturaleza del ejercicio, para la función de coste (loss), dependiendo del preprocesamiento de datos, se tomará o bien categorical_crossentropy o sparse cateoricalcross entropy.\n",
        "\n",
        "- Los parámetros de batch size onúmero de etapas (epochs) también son libres, ya que dependen en gran medida de la disponibilidad de recursos como GPU o RAM.\n",
        "\n",
        "\n",
        "# Consejos importantes para la práctica\n",
        "\n",
        "- Es una práctica exigente en RAM; para no realizar excesivas epochs se puede hacer uso de callbacks deKeras como la parada temprana (early stopping).\n",
        "\n",
        "- Si no se dispone de mucha RAM o se quiere tener acceso a GPU gratuita (con ciertas restricciones), se puede hacer uso de Google Colab.\n",
        "\n",
        "- Si no es posible realizar toda la práctica en un solo notebook, debido a problemas de recursos, se puede hacer lo siguiente:\n",
        "\n",
        "    - En un notebook cargar las imágenes, obtener los tensores preprocesados, cualquier array de NumPy puede guardarse con la función np.save(con extensión “.npy”); posteriormente, generar un notebook por modelo de red neuronal, en cada modelo hacer uso de la función np.load y asíevitar tener que cargar las imágenes, pues se estarían cargando directamente lostensores.\n",
        "\n",
        "    - Implementar un modelo por cada notebook (en cada cual se realizará np.load para cargar los tensores). Después de entrenar el modelo, se pondrá la atención en dos elementos para después poder generar la gráfica comparativa.\n",
        "\n",
        "        - El history del modelo, es un JSON que puede exportarse con JSON dumps o con la función write.\n",
        "\n",
        "        - El modelo completo puede exportarse como “.h5” con la función save (https://www.tensorflow.org/guide/keras/save_and_serialize?hl=es-419). Después de guardar el modelo, enotro notebook se puede cargar y realizar posteriormente la función evaluate en test (también se pueden exportar los modelos como JSON; es posible ver ejemplos de ello en el enlace anterior).\n",
        "\n",
        "        - De esta forma, cuando se implemente un modelo, se guardará, se apagará el notebook y se liberará RAM. Posteriormente, se deberá cargar un modelo, que es menos costoso en recursos que entrenarlo de forma completa.\n",
        "\n",
        "- Si se siguen teniendo problemas de RAM, ya que los tensores son considerables en memoria y el alumnado no tiene recursos para cargar las 17 000 imágenes de entrenamiento, se pueden cargar únicamente 3000, por ejemplo, 500 imágenes de cada label de seg_train(se recomienda probar Google Colab antes de realizar este paso, y los modelos se pueden guardar en Drive).\n",
        "\n",
        "## Entregable\n",
        "\n",
        "Una carpeta comprimida (\".rar” o “.zip”), en la cual estén los notebooks tanto en formato “.ipynb” como en “.html” al guardar el notebook.\n",
        "\n",
        "Nota: no es necesario entregar modelos guardados en “.h5” ni arrays en NPY ni los archivos de origen con las imágenes; únicamente se entregan los notebooks.\n",
        "\n",
        "\n",
        "## Anexo\n",
        "\n",
        "Ejemplo de uso de ImageDataGenerator.\n",
        "\n",
        "datagen = ImageDataGenerator(\n",
        "       rotation_range=40,\n",
        "       width_shift_range=0.2,\n",
        "       height_shift_range=0.2,\n",
        "       validation_split  = 0.2\n",
        "       rescale=1./255,\n",
        "       shear_range=0.2,\n",
        "       zoom_range=0.2,\n",
        "       horizontal_flip=True,\n",
        "       fill_mode='nearest')\n",
        "\n",
        "datagen.fit(X_train)\n",
        "\n",
        "train_generator = datagen.flow(X_train, y_train, batch_size=32, subset='training')\n",
        "\n",
        "validation_generator = datagen.flow(X_train, y_train, batch_size=32, subset='validation')\n",
        "\n",
        "data_aug = model.fit(train_generator,\n",
        "                    epochs=EPOCHS,\n",
        "                    validation_data=validation_generator,\n",
        "                    batch_size=BATCH_SIZE)"
      ]
    },
    {
      "cell_type": "markdown",
      "id": "8526c321",
      "metadata": {
        "id": "8526c321"
      },
      "source": [
        "# Cargar librerías"
      ]
    },
    {
      "cell_type": "code",
      "execution_count": 6,
      "id": "59bb162e",
      "metadata": {
        "id": "59bb162e"
      },
      "outputs": [],
      "source": [
        "import os\n",
        "import numpy as np\n",
        "import matplotlib.pyplot as plt\n",
        "import tensorflow as tf\n",
        "from tensorflow.keras import layers, models\n",
        "from tensorflow.keras.preprocessing.image import ImageDataGenerator\n",
        "from tensorflow.keras.applications import VGG16\n",
        "from keras_tuner import RandomSearch\n",
        "from sklearn.metrics import classification_report, confusion_matrix\n"
      ]
    },
    {
      "cell_type": "markdown",
      "id": "a71e399e",
      "metadata": {
        "id": "a71e399e"
      },
      "source": [
        "# Carga y preprocesamiento de los datos"
      ]
    },
    {
      "cell_type": "code",
      "source": [
        "import zipfile\n",
        "import os\n",
        "\n",
        "# Especifica la ruta al archivo zip\n",
        "zip_path_train = 'seg_train.zip'\n",
        "zip_path_test = 'seg_test.zip'\n",
        "\n",
        "# Especifica el directorio donde quieres descomprimir los archivos\n",
        "output_dir = 'seg_extracted'\n",
        "\n",
        "# Crea el directorio de salida si no existe\n",
        "os.makedirs(output_dir, exist_ok=True)\n",
        "\n",
        "# Descomprime el archivo zip\n",
        "with zipfile.ZipFile(zip_path_train, 'r') as zip_ref_train:\n",
        "    zip_ref_train.extractall(output_dir)\n",
        "\n",
        "with zipfile.ZipFile(zip_path_test, 'r') as zip_ref_test:\n",
        "    zip_ref_test.extractall(output_dir)\n",
        "\n",
        "print(f\"Archivo '{zip_path_train}' descomprimido en '{output_dir}'\")\n",
        "print(f\"Archivo '{zip_path_test}' descomprimido en '{output_dir}'\")"
      ],
      "metadata": {
        "colab": {
          "base_uri": "https://localhost:8080/"
        },
        "id": "ZYpGrts94g-M",
        "outputId": "b07e955e-99dd-45c2-dee1-84470046275f"
      },
      "id": "ZYpGrts94g-M",
      "execution_count": 2,
      "outputs": [
        {
          "output_type": "stream",
          "name": "stdout",
          "text": [
            "Archivo 'seg_train.zip' descomprimido en 'seg_extracted'\n",
            "Archivo 'seg_test.zip' descomprimido en 'seg_extracted'\n"
          ]
        }
      ]
    },
    {
      "cell_type": "code",
      "execution_count": 7,
      "id": "2c3d5a69",
      "metadata": {
        "colab": {
          "base_uri": "https://localhost:8080/"
        },
        "id": "2c3d5a69",
        "outputId": "1e794ff3-6426-4a7a-e7a3-d0cc650945d8"
      },
      "outputs": [
        {
          "output_type": "stream",
          "name": "stdout",
          "text": [
            "Found 11230 images belonging to 6 classes.\n",
            "Found 2804 images belonging to 6 classes.\n"
          ]
        }
      ],
      "source": [
        "from google.colab import files\n",
        "\n",
        "DATASET_PATH = 'seg_extracted/seg_train'\n",
        "\n",
        "IMG_SIZE = (150, 150)\n",
        "BATCH_SIZE = 32\n",
        "\n",
        "train_datagen = ImageDataGenerator(\n",
        "    rescale=1./255,\n",
        "    validation_split=0.2\n",
        ")\n",
        "\n",
        "train_generator = train_datagen.flow_from_directory(\n",
        "    DATASET_PATH,\n",
        "    target_size=IMG_SIZE,\n",
        "    batch_size=BATCH_SIZE,\n",
        "    class_mode='sparse',\n",
        "    subset='training',\n",
        "    shuffle=True\n",
        ")\n",
        "\n",
        "val_generator = train_datagen.flow_from_directory(\n",
        "    DATASET_PATH,\n",
        "    target_size=IMG_SIZE,\n",
        "    batch_size=BATCH_SIZE,\n",
        "    class_mode='sparse',\n",
        "    subset='validation',\n",
        "    shuffle=True\n",
        ")\n"
      ]
    },
    {
      "cell_type": "markdown",
      "id": "520265ed",
      "metadata": {
        "id": "520265ed"
      },
      "source": [
        "# Construcción modelos\n",
        "\n",
        "## 1. Modelo Base basado en CNN\n",
        "\n",
        "La arquitectura CNN (redes neuronales convolucionales) de este modelo es libre, pero al menos debe tener una capa convolucional y una capa pooling (de libre elección el tipo de pooling) antes de la capa densa de salida. En el siguiente apartado se implementará de forma más compleja."
      ]
    },
    {
      "cell_type": "code",
      "execution_count": 10,
      "id": "fb92a3c8",
      "metadata": {
        "colab": {
          "base_uri": "https://localhost:8080/",
          "height": 737
        },
        "id": "fb92a3c8",
        "outputId": "34ee269d-b89a-4364-c82f-77448d32489a"
      },
      "outputs": [
        {
          "output_type": "stream",
          "name": "stderr",
          "text": [
            "/usr/local/lib/python3.11/dist-packages/keras/src/layers/convolutional/base_conv.py:107: UserWarning: Do not pass an `input_shape`/`input_dim` argument to a layer. When using Sequential models, prefer using an `Input(shape)` object as the first layer in the model instead.\n",
            "  super().__init__(activity_regularizer=activity_regularizer, **kwargs)\n"
          ]
        },
        {
          "output_type": "stream",
          "name": "stdout",
          "text": [
            "Epoch 1/10\n",
            "\u001b[1m351/351\u001b[0m \u001b[32m━━━━━━━━━━━━━━━━━━━━\u001b[0m\u001b[37m\u001b[0m \u001b[1m0s\u001b[0m 758ms/step - accuracy: 0.5055 - loss: 2.3965"
          ]
        },
        {
          "output_type": "stream",
          "name": "stderr",
          "text": [
            "/usr/local/lib/python3.11/dist-packages/keras/src/trainers/data_adapters/py_dataset_adapter.py:121: UserWarning: Your `PyDataset` class should call `super().__init__(**kwargs)` in its constructor. `**kwargs` can include `workers`, `use_multiprocessing`, `max_queue_size`. Do not pass these arguments to `fit()`, as they will be ignored.\n",
            "  self._warn_if_super_not_called()\n"
          ]
        },
        {
          "output_type": "stream",
          "name": "stdout",
          "text": [
            "\b\b\b\b\b\b\b\b\b\b\b\b\b\b\b\b\b\b\b\b\b\b\b\b\b\b\b\b\b\b\b\b\b\b\b\b\b\b\b\b\b\b\b\b\b\b\b\b\b\b\b\b\b\b\b\b\b\b\b\b\b\b\b\b\b\b\b\b\b\b\b\b\b\b\b\b\r\u001b[1m351/351\u001b[0m \u001b[32m━━━━━━━━━━━━━━━━━━━━\u001b[0m\u001b[37m\u001b[0m \u001b[1m293s\u001b[0m 829ms/step - accuracy: 0.5058 - loss: 2.3933 - val_accuracy: 0.7265 - val_loss: 0.7576\n",
            "Epoch 2/10\n",
            "\u001b[1m351/351\u001b[0m \u001b[32m━━━━━━━━━━━━━━━━━━━━\u001b[0m\u001b[37m\u001b[0m \u001b[1m271s\u001b[0m 771ms/step - accuracy: 0.7918 - loss: 0.5983 - val_accuracy: 0.7311 - val_loss: 0.7221\n",
            "Epoch 3/10\n",
            "\u001b[1m351/351\u001b[0m \u001b[32m━━━━━━━━━━━━━━━━━━━━\u001b[0m\u001b[37m\u001b[0m \u001b[1m277s\u001b[0m 791ms/step - accuracy: 0.8829 - loss: 0.3653 - val_accuracy: 0.7450 - val_loss: 0.7506\n",
            "Epoch 4/10\n",
            "\u001b[1m351/351\u001b[0m \u001b[32m━━━━━━━━━━━━━━━━━━━━\u001b[0m\u001b[37m\u001b[0m \u001b[1m269s\u001b[0m 765ms/step - accuracy: 0.9450 - loss: 0.1987 - val_accuracy: 0.7436 - val_loss: 0.8379\n",
            "Epoch 5/10\n",
            "\u001b[1m351/351\u001b[0m \u001b[32m━━━━━━━━━━━━━━━━━━━━\u001b[0m\u001b[37m\u001b[0m \u001b[1m315s\u001b[0m 746ms/step - accuracy: 0.9765 - loss: 0.1016 - val_accuracy: 0.7229 - val_loss: 1.0852\n"
          ]
        },
        {
          "output_type": "display_data",
          "data": {
            "text/plain": [
              "<Figure size 640x480 with 1 Axes>"
            ],
            "image/png": "[encoded data removed]"
          },
          "metadata": {}
        }
      ],
      "source": [
        "from tensorflow.keras.callbacks import EarlyStopping\n",
        "# Definimos el modelo base CNN\n",
        "base_model = models.Sequential([\n",
        "    layers.Conv2D(32, (3,3), activation='relu', input_shape=(150,150,3)),\n",
        "    layers.MaxPooling2D(2,2),\n",
        "    layers.Flatten(),\n",
        "    layers.Dense(64, activation='relu'),\n",
        "    layers.Dense(6, activation='softmax')\n",
        "])\n",
        "\n",
        "# Compilación\n",
        "base_model.compile(optimizer='adam',\n",
        "                   loss='sparse_categorical_crossentropy',\n",
        "                   metrics=['accuracy'])\n",
        "\n",
        "# Early stopping\n",
        "early_stop = EarlyStopping(monitor='val_loss', patience=3, restore_best_weights=True)\n",
        "\n",
        "# Entrenamiento\n",
        "history_base = base_model.fit(\n",
        "    train_generator,\n",
        "    epochs=10,\n",
        "    validation_data=val_generator,\n",
        "    callbacks=[early_stop]\n",
        ")\n",
        "\n",
        "# Mostrar precisión de entrenamiento y validación\n",
        "plt.plot(history_base.history['accuracy'], label='Train Accuracy')\n",
        "plt.plot(history_base.history['val_accuracy'], label='Validation Accuracy')\n",
        "plt.title('Modelo Base - Accuracy')\n",
        "plt.xlabel('Épocas')\n",
        "plt.ylabel('Precisión')\n",
        "plt.legend()\n",
        "plt.show()\n"
      ]
    },
    {
      "cell_type": "markdown",
      "source": [
        "Los resultados muestran que el modelo está aprendiendo de manera efectiva en los datos de entrenamiento, como se evidencia por el rápido aumento en la precisión de entrenamiento y la disminución en la pérdida de entrenamiento. Sin embargo, notamos un comportamiento típico de sobreajuste. Después de la Época 2, la pérdida de validación (val_loss) comienza a aumentar, a pesar de que la precisión de entrenamiento continúa mejorando. Esto significa que el modelo está empezando a memorizar el conjunto de entrenamiento en lugar de aprender características generales que se apliquen bien a datos nuevos.\n",
        "\n",
        "La inclusión del callback EarlyStopping fue efectiva, ya que detuvo el entrenamiento después de la Época 5 porque la pérdida de validación dejó de mejorar (de hecho, empeoró en las Épocas 3, 4 y 5 en comparación con la Época 2). Esto evita que el modelo continúe sobreajustándose y potencialmente degrade su rendimiento en datos no vistos.\n",
        "\n",
        "En resumen, el modelo base muestra un buen inicio en el aprendizaje, pero rápidamente comienza a sobreajustarse. El uso de EarlyStopping es una buena práctica para detener el entrenamiento en el punto donde el rendimiento en validación es óptimo. Para mejorar el rendimiento general, los siguientes modelos (aumentado, con tuning, transfer learning y aumento de datos) deberían ayudar a abordar este problema de sobreajuste y mejorar la capacidad de generalización del modelo."
      ],
      "metadata": {
        "id": "VbuqmsSS8jwq"
      },
      "id": "VbuqmsSS8jwq"
    },
    {
      "cell_type": "markdown",
      "id": "e67be1d4",
      "metadata": {
        "id": "e67be1d4"
      },
      "source": [
        "## 2. Modelo aumentado sobre el modelo base\n",
        "\n",
        "Añade más capas a la arquitectura convolucional anterior."
      ]
    },
    {
      "cell_type": "code",
      "execution_count": 11,
      "id": "a78e5458",
      "metadata": {
        "id": "a78e5458",
        "colab": {
          "base_uri": "https://localhost:8080/",
          "height": 806
        },
        "outputId": "62e64a55-e54b-44a8-c48c-eae3f12f6e15"
      },
      "outputs": [
        {
          "output_type": "stream",
          "name": "stderr",
          "text": [
            "/usr/local/lib/python3.11/dist-packages/keras/src/layers/convolutional/base_conv.py:107: UserWarning: Do not pass an `input_shape`/`input_dim` argument to a layer. When using Sequential models, prefer using an `Input(shape)` object as the first layer in the model instead.\n",
            "  super().__init__(activity_regularizer=activity_regularizer, **kwargs)\n"
          ]
        },
        {
          "output_type": "stream",
          "name": "stdout",
          "text": [
            "Epoch 1/10\n",
            "\u001b[1m351/351\u001b[0m \u001b[32m━━━━━━━━━━━━━━━━━━━━\u001b[0m\u001b[37m\u001b[0m \u001b[1m566s\u001b[0m 2s/step - accuracy: 0.4821 - loss: 1.2824 - val_accuracy: 0.7065 - val_loss: 0.7889\n",
            "Epoch 2/10\n",
            "\u001b[1m351/351\u001b[0m \u001b[32m━━━━━━━━━━━━━━━━━━━━\u001b[0m\u001b[37m\u001b[0m \u001b[1m613s\u001b[0m 2s/step - accuracy: 0.7035 - loss: 0.8002 - val_accuracy: 0.7789 - val_loss: 0.6085\n",
            "Epoch 3/10\n",
            "\u001b[1m351/351\u001b[0m \u001b[32m━━━━━━━━━━━━━━━━━━━━\u001b[0m\u001b[37m\u001b[0m \u001b[1m545s\u001b[0m 2s/step - accuracy: 0.7687 - loss: 0.6372 - val_accuracy: 0.8110 - val_loss: 0.5491\n",
            "Epoch 4/10\n",
            "\u001b[1m351/351\u001b[0m \u001b[32m━━━━━━━━━━━━━━━━━━━━\u001b[0m\u001b[37m\u001b[0m \u001b[1m536s\u001b[0m 2s/step - accuracy: 0.8133 - loss: 0.5205 - val_accuracy: 0.7889 - val_loss: 0.5662\n",
            "Epoch 5/10\n",
            "\u001b[1m351/351\u001b[0m \u001b[32m━━━━━━━━━━━━━━━━━━━━\u001b[0m\u001b[37m\u001b[0m \u001b[1m524s\u001b[0m 1s/step - accuracy: 0.8410 - loss: 0.4451 - val_accuracy: 0.8245 - val_loss: 0.4981\n",
            "Epoch 6/10\n",
            "\u001b[1m351/351\u001b[0m \u001b[32m━━━━━━━━━━━━━━━━━━━━\u001b[0m\u001b[37m\u001b[0m \u001b[1m526s\u001b[0m 1s/step - accuracy: 0.8711 - loss: 0.3749 - val_accuracy: 0.8210 - val_loss: 0.5387\n",
            "Epoch 7/10\n",
            "\u001b[1m351/351\u001b[0m \u001b[32m━━━━━━━━━━━━━━━━━━━━\u001b[0m\u001b[37m\u001b[0m \u001b[1m526s\u001b[0m 1s/step - accuracy: 0.8859 - loss: 0.3093 - val_accuracy: 0.8338 - val_loss: 0.5213\n",
            "Epoch 8/10\n",
            "\u001b[1m351/351\u001b[0m \u001b[32m━━━━━━━━━━━━━━━━━━━━\u001b[0m\u001b[37m\u001b[0m \u001b[1m549s\u001b[0m 2s/step - accuracy: 0.9034 - loss: 0.2604 - val_accuracy: 0.8217 - val_loss: 0.5631\n"
          ]
        },
        {
          "output_type": "display_data",
          "data": {
            "text/plain": [
              "<Figure size 640x480 with 1 Axes>"
            ],
            "image/png": "[encoded data removed]"
          },
          "metadata": {}
        }
      ],
      "source": [
        "# Modelo avanzado con más capas convolucionales y dropout\n",
        "advanced_model = models.Sequential([\n",
        "    layers.Conv2D(32, (3,3), activation='relu', input_shape=(150,150,3)),\n",
        "    layers.MaxPooling2D(2,2),\n",
        "\n",
        "    layers.Conv2D(64, (3,3), activation='relu'),\n",
        "    layers.MaxPooling2D(2,2),\n",
        "\n",
        "    layers.Conv2D(128, (3,3), activation='relu'),\n",
        "    layers.MaxPooling2D(2,2),\n",
        "\n",
        "    layers.Flatten(),\n",
        "    layers.Dense(128, activation='relu'),\n",
        "    layers.Dropout(0.5),\n",
        "    layers.Dense(6, activation='softmax')\n",
        "])\n",
        "\n",
        "# Compilación\n",
        "advanced_model.compile(optimizer='adam',\n",
        "                       loss='sparse_categorical_crossentropy',\n",
        "                       metrics=['accuracy'])\n",
        "\n",
        "# Early stopping\n",
        "early_stop = EarlyStopping(monitor='val_loss', patience=3, restore_best_weights=True)\n",
        "\n",
        "# Entrenamiento\n",
        "history_advanced = advanced_model.fit(\n",
        "    train_generator,\n",
        "    epochs=10,\n",
        "    validation_data=val_generator,\n",
        "    callbacks=[early_stop]\n",
        ")\n",
        "\n",
        "# Mostrar precisión de entrenamiento y validación\n",
        "plt.plot(history_advanced.history['accuracy'], label='Train Accuracy')\n",
        "plt.plot(history_advanced.history['val_accuracy'], label='Validation Accuracy')\n",
        "plt.title('Modelo Avanzado - Accuracy')\n",
        "plt.xlabel('Épocas')\n",
        "plt.ylabel('Precisión')\n",
        "plt.legend()\n",
        "plt.show()\n"
      ]
    },
    {
      "cell_type": "markdown",
      "source": [
        "Podemos ver una mejora significativa en comparación con el modelo base.\n",
        "\n",
        "- **Mejora del Rendimiento Inicial**: El modelo comienza con una precisión de entrenamiento y validación más alta en la primera época en comparación con el modelo base, lo que sugiere que la arquitectura más compleja es capaz de aprender características más ricas desde el principio.\n",
        "\n",
        "- **Aumento Constante de la Precisión de Entrenamiento**: La precisión en los datos de entrenamiento continúa aumentando de manera constante a lo largo de las épocas, alcanzando un alto valor (0.9034) en la Época 8. La pérdida de entrenamiento también disminuye de manera consistente.\n",
        "\n",
        "- **Mejor Rendimiento en Validación**: La precisión de validación (val_accuracy) también mejora a lo largo de las épocas, alcanzando su punto máximo en la Época 7 (0.8338). La pérdida de validación (val_loss) disminuye inicialmente y alcanza su valor más bajo en la Época 5 (0.4981).\n",
        "\n",
        "- **Sobreajuste Menos Pronunciado pero Presente**: Aunque el sobreajuste sigue presente (la precisión de entrenamiento es significativamente más alta que la de validación, y la pérdida de validación comienza a aumentar después de la Época 5), parece ser menos pronunciado que en el modelo base. Esto podría deberse a la adición de capas convolucionales adicionales que permiten al modelo aprender representaciones más complejas y al uso de la capa de Dropout, que ayuda a regularizar el modelo.\n",
        "\n",
        "- **Efecto de Early Stopping**: El callback EarlyStopping detuvo el entrenamiento después de la Época 8 porque la pérdida de validación comenzó a aumentar nuevamente después de la Época 5. Esto es crucial para evitar que el modelo siga sobreajustándose y empeore su rendimiento en datos no vistos.\n",
        "\n",
        "En conclusión, el \"Modelo Avanzado\" con su arquitectura más profunda y la inclusión de Dropout muestra un mejor rendimiento en el conjunto de validación en comparación con el modelo base. Aunque el sobreajuste aún es un desafío, las técnicas utilizadas parecen haberlo mitigado un poco. Este modelo es un buen punto de partida para las siguientes etapas, como el ajuste de hiperparámetros."
      ],
      "metadata": {
        "id": "OHuWjty9-L83"
      },
      "id": "OHuWjty9-L83"
    },
    {
      "cell_type": "markdown",
      "id": "b69630ec",
      "metadata": {
        "id": "b69630ec"
      },
      "source": [
        "## 3. Modelo basado en hyperparameter tuning a través de keras_tuner\n",
        "En este modelo se pueden trabajar parámetros de regularización (L1 y L2), inicialización de pesos, funciones de activación, añadir sí o no dropout, etc. La elección de los hiperparámetros es libre, pero se aplicará al segundo modelo, es decir, al que se ha añadido más capas sobre el modelo base.\n",
        "\n"
      ]
    },
    {
      "cell_type": "code",
      "source": [
        "import keras_tuner as kt\n",
        "from tensorflow.keras import regularizers, initializers\n",
        "# Modelo con tuning\n",
        "def build_model(hp):\n",
        "    model = models.Sequential()\n",
        "\n",
        "    # Primera capa convolucional\n",
        "    model.add(layers.Conv2D(\n",
        "        filters=hp.Int('filters1', min_value=32, max_value=128, step=32),\n",
        "        kernel_size=(3, 3),\n",
        "        activation=hp.Choice('activation1', values=['relu', 'tanh']),\n",
        "        input_shape=(150, 150, 3),\n",
        "        kernel_regularizer=regularizers.l2(hp.Float('l2_reg1', 1e-4, 1e-2, sampling='log'))\n",
        "    ))\n",
        "    model.add(layers.MaxPooling2D(2, 2))\n",
        "\n",
        "    # Segunda capa convolucional\n",
        "    model.add(layers.Conv2D(\n",
        "        filters=hp.Int('filters2', min_value=32, max_value=128, step=32),\n",
        "        kernel_size=(3, 3),\n",
        "        activation=hp.Choice('activation2', values=['relu', 'tanh']),\n",
        "        kernel_regularizer=regularizers.l2(hp.Float('l2_reg2', 1e-4, 1e-2, sampling='log'))\n",
        "    ))\n",
        "    model.add(layers.MaxPooling2D(2, 2))\n",
        "\n",
        "    # Tercera capa convolucional opcional\n",
        "    if hp.Boolean('add_third_conv'):\n",
        "        model.add(layers.Conv2D(\n",
        "            filters=hp.Int('filters3', min_value=64, max_value=128, step=32),\n",
        "            kernel_size=(3, 3),\n",
        "            activation='relu'\n",
        "        ))\n",
        "        model.add(layers.MaxPooling2D(2, 2))\n",
        "\n",
        "    model.add(layers.Flatten())\n",
        "\n",
        "    # Capa densa\n",
        "    model.add(layers.Dense(\n",
        "        units=hp.Int('dense_units', 64, 256, step=64),\n",
        "        activation=hp.Choice('dense_activation', ['relu', 'tanh']),\n",
        "        kernel_initializer=hp.Choice('initializer', ['he_normal', 'glorot_uniform'])\n",
        "    ))\n",
        "\n",
        "    # Dropout\n",
        "    if hp.Boolean('use_dropout'):\n",
        "        model.add(layers.Dropout(hp.Float('dropout', 0.2, 0.5, step=0.1)))\n",
        "\n",
        "    model.add(layers.Dense(6, activation='softmax'))\n",
        "\n",
        "    # Compilación\n",
        "    model.compile(\n",
        "        optimizer='adam',\n",
        "        loss='sparse_categorical_crossentropy',\n",
        "        metrics=['accuracy']\n",
        "    )\n",
        "\n",
        "    return model\n",
        "\n",
        "# Definición del tuner\n",
        "tuner = RandomSearch(\n",
        "    build_model,\n",
        "    objective='val_accuracy',\n",
        "    max_trials=5,\n",
        "    executions_per_trial=1,\n",
        "    directory='tuner_dir',\n",
        "    project_name='scene_classification'\n",
        ")\n",
        "\n",
        "# Callback de parada temprana\n",
        "early_stop = EarlyStopping(monitor='val_loss', patience=3, restore_best_weights=True)\n",
        "\n",
        "# Lanzar la búsqueda\n",
        "tuner.search(train_generator, epochs=10, validation_data=val_generator, callbacks=[early_stop])\n",
        "\n",
        "# Obtener el mejor modelo\n",
        "best_model = tuner.get_best_models(num_models=1)[0]\n",
        "\n",
        "# Entrenarlo (de nuevo si se desea)\n",
        "history = best_model.fit(train_generator, epochs=10, validation_data=val_generator, callbacks=[early_stop])\n",
        "\n",
        "# Visualizar resultados\n",
        "plt.plot(history.history['accuracy'], label='Train Accuracy')\n",
        "plt.plot(history.history['val_accuracy'], label='Val Accuracy')\n",
        "plt.title('Modelo con Hyperparameter Tuning')\n",
        "plt.xlabel('Epochs')\n",
        "plt.ylabel('Accuracy')\n",
        "plt.legend()\n",
        "plt.show()"
      ],
      "metadata": {
        "colab": {
          "base_uri": "https://localhost:8080/"
        },
        "id": "h9EYP0UwjNTp",
        "outputId": "ad8fd712-95dd-4755-d678-ac9fb25ead46"
      },
      "id": "h9EYP0UwjNTp",
      "execution_count": null,
      "outputs": [
        {
          "output_type": "stream",
          "name": "stderr",
          "text": [
            "/usr/local/lib/python3.11/dist-packages/keras/src/layers/convolutional/base_conv.py:107: UserWarning: Do not pass an `input_shape`/`input_dim` argument to a layer. When using Sequential models, prefer using an `Input(shape)` object as the first layer in the model instead.\n",
            "  super().__init__(activity_regularizer=activity_regularizer, **kwargs)\n"
          ]
        },
        {
          "output_type": "stream",
          "name": "stdout",
          "text": [
            "\n",
            "Search: Running Trial #1\n",
            "\n",
            "Value             |Best Value So Far |Hyperparameter\n",
            "32                |32                |filters1\n",
            "relu              |relu              |activation1\n",
            "0.00012327        |0.00012327        |l2_reg1\n",
            "96                |96                |filters2\n",
            "relu              |relu              |activation2\n",
            "0.0061188         |0.0061188         |l2_reg2\n",
            "True              |True              |add_third_conv\n",
            "192               |192               |dense_units\n",
            "tanh              |tanh              |dense_activation\n",
            "glorot_uniform    |glorot_uniform    |initializer\n",
            "True              |True              |use_dropout\n",
            "\n"
          ]
        },
        {
          "output_type": "stream",
          "name": "stderr",
          "text": [
            "/usr/local/lib/python3.11/dist-packages/keras/src/layers/convolutional/base_conv.py:107: UserWarning: Do not pass an `input_shape`/`input_dim` argument to a layer. When using Sequential models, prefer using an `Input(shape)` object as the first layer in the model instead.\n",
            "  super().__init__(activity_regularizer=activity_regularizer, **kwargs)\n"
          ]
        },
        {
          "output_type": "stream",
          "name": "stdout",
          "text": [
            "Epoch 1/10\n",
            "\u001b[1m351/351\u001b[0m \u001b[32m━━━━━━━━━━━━━━━━━━━━\u001b[0m\u001b[37m\u001b[0m \u001b[1m607s\u001b[0m 2s/step - accuracy: 0.5424 - loss: 1.3613 - val_accuracy: 0.7101 - val_loss: 0.8901\n",
            "Epoch 2/10\n",
            "\u001b[1m351/351\u001b[0m \u001b[32m━━━━━━━━━━━━━━━━━━━━\u001b[0m\u001b[37m\u001b[0m \u001b[1m617s\u001b[0m 2s/step - accuracy: 0.7439 - loss: 0.7763 - val_accuracy: 0.8053 - val_loss: 0.6464\n",
            "Epoch 3/10\n",
            "\u001b[1m351/351\u001b[0m \u001b[32m━━━━━━━━━━━━━━━━━━━━\u001b[0m\u001b[37m\u001b[0m \u001b[1m612s\u001b[0m 2s/step - accuracy: 0.8130 - loss: 0.5973 - val_accuracy: 0.7732 - val_loss: 0.7267\n",
            "Epoch 4/10\n",
            "\u001b[1m274/351\u001b[0m \u001b[32m━━━━━━━━━━━━━━━\u001b[0m\u001b[37m━━━━━\u001b[0m \u001b[1m2:05\u001b[0m 2s/step - accuracy: 0.8460 - loss: 0.4803"
          ]
        }
      ]
    },
    {
      "cell_type": "markdown",
      "id": "ec52f63b",
      "metadata": {
        "id": "ec52f63b"
      },
      "source": [
        "## 4. Modelo basado en transfer learning\n",
        "\n",
        "El modelo preentrenado sobre el que cargar los pesos de la red es libre, siempre y cuando se elija cualquiera deKeras (https://keras.io/api/applications/). Se puede escoger realizar tanto featureextraction como fine-tuning, aunque se valorará más positivamente (dadala complejidad de congelar capas de entrenamiento) realizar fine-tuning."
      ]
    },
    {
      "cell_type": "code",
      "execution_count": null,
      "id": "66d53ccb",
      "metadata": {
        "id": "66d53ccb"
      },
      "outputs": [],
      "source": [
        "# Cargar modelo base VGG16 sin las capas densas superiores\n",
        "base_vgg = VGG16(include_top=False, weights='imagenet', input_shape=(150, 150, 3))\n",
        "\n",
        "# Congelar solo las primeras capas (fine-tuning parcial)\n",
        "for layer in base_vgg.layers[:15]:\n",
        "    layer.trainable = False\n",
        "for layer in base_vgg.layers[15:]:\n",
        "    layer.trainable = True\n",
        "\n",
        "# Construir modelo secuencial sobre la base VGG16\n",
        "transfer_model = models.Sequential([\n",
        "    base_vgg,\n",
        "    layers.Flatten(),\n",
        "    layers.Dense(256, activation='relu'),\n",
        "    layers.Dropout(0.5),\n",
        "    layers.Dense(6, activation='softmax')\n",
        "])\n",
        "\n",
        "# Compilar modelo\n",
        "transfer_model.compile(optimizer='adam', loss='sparse_categorical_crossentropy', metrics=['accuracy'])\n",
        "\n",
        "# Callback de parada temprana\n",
        "early_stop = EarlyStopping(monitor='val_loss', patience=3, restore_best_weights=True)\n",
        "\n",
        "# Entrenamiento\n",
        "history_transfer = transfer_model.fit(\n",
        "    train_generator,\n",
        "    epochs=15,\n",
        "    validation_data=val_generator,\n",
        "    callbacks=[early_stop]\n",
        ")\n",
        "\n",
        "# Visualizar resultados\n",
        "plt.plot(history_transfer.history['accuracy'], label='Train Accuracy')\n",
        "plt.plot(history_transfer.history['val_accuracy'], label='Val Accuracy')\n",
        "plt.title('Modelo 4: Transfer Learning con VGG16 (Fine-Tuning)')\n",
        "plt.xlabel('Epochs')\n",
        "plt.ylabel('Accuracy')\n",
        "plt.legend()\n",
        "plt.show()\n"
      ]
    },
    {
      "cell_type": "markdown",
      "id": "41e05188",
      "metadata": {
        "id": "41e05188"
      },
      "source": [
        "## 5. Modelo basado en aumento de datos sobre cualquiera de los cuatro modelos implementados anteriormente\n",
        "\n",
        "Se aconseja sobre el modelo que mayor score haya devuelto la función evaluate. Para el aumento de datos, debe emplearse lafunción ImageDataGenerator, la elección de parámetros en ImageDataGeneratores libre."
      ]
    },
    {
      "cell_type": "code",
      "execution_count": null,
      "id": "f383ae82",
      "metadata": {
        "id": "f383ae82"
      },
      "outputs": [],
      "source": [
        "# Generador de datos con aumento\n",
        "aug_datagen = ImageDataGenerator(\n",
        "    rescale=1./255,\n",
        "    validation_split=0.2,\n",
        "    rotation_range=40,\n",
        "    width_shift_range=0.2,\n",
        "    height_shift_range=0.2,\n",
        "    shear_range=0.2,\n",
        "    zoom_range=0.2,\n",
        "    horizontal_flip=True,\n",
        "    fill_mode='nearest'\n",
        ")\n",
        "\n",
        "# Datos aumentados para entrenamiento y validación\n",
        "aug_train = aug_datagen.flow_from_directory(\n",
        "    DATASET_PATH,\n",
        "    target_size=IMG_SIZE,\n",
        "    batch_size=BATCH_SIZE,\n",
        "    class_mode='sparse',\n",
        "    subset='training',\n",
        "    shuffle=True\n",
        ")\n",
        "\n",
        "aug_val = aug_datagen.flow_from_directory(\n",
        "    DATASET_PATH,\n",
        "    target_size=IMG_SIZE,\n",
        "    batch_size=BATCH_SIZE,\n",
        "    class_mode='sparse',\n",
        "    subset='validation',\n",
        "    shuffle=False\n",
        ")\n",
        "\n",
        "# Reutilizamos el mejor modelo anterior (modelo 4 con VGG16)\n",
        "aug_model = transfer_model\n",
        "\n",
        "# Callback para early stopping\n",
        "early_stop_aug = EarlyStopping(monitor='val_loss', patience=3, restore_best_weights=True)\n",
        "\n",
        "# Entrenamiento con datos aumentados\n",
        "history_aug = aug_model.fit(\n",
        "    aug_train,\n",
        "    epochs=15,\n",
        "    validation_data=aug_val,\n",
        "    callbacks=[early_stop_aug]\n",
        ")\n",
        "\n",
        "# Visualización\n",
        "plt.plot(history_aug.history['accuracy'], label='Train Accuracy')\n",
        "plt.plot(history_aug.history['val_accuracy'], label='Val Accuracy')\n",
        "plt.title('Modelo 5: Transfer Learning + Aumento de Datos')\n",
        "plt.xlabel('Epochs')\n",
        "plt.ylabel('Accuracy')\n",
        "plt.legend()\n",
        "plt.show()"
      ]
    },
    {
      "cell_type": "markdown",
      "source": [
        "## 6. Modelo CNN personalizada con Bloques Residuales (tipo ResNet)\n",
        "\n",
        "Modelo basado en una red convolucional profunda inspirada en ResNet, pero sin usar transfer learning. Es una arquitectura custom con bloques residuales simples, que permite trabajar con modelos más avanzados sin usar modelos preentrenados.\n"
      ],
      "metadata": {
        "id": "lSGSX4xJksif"
      },
      "id": "lSGSX4xJksif"
    },
    {
      "cell_type": "code",
      "source": [
        "# Definir un bloque residual simple\n",
        "def residual_block(x, filters):\n",
        "    shortcut = x\n",
        "    x = layers.Conv2D(filters, (3,3), padding='same', activation='relu')(x)\n",
        "    x = layers.BatchNormalization()(x)\n",
        "    x = layers.Conv2D(filters, (3,3), padding='same')(x)\n",
        "    x = layers.BatchNormalization()(x)\n",
        "    x = layers.add([x, shortcut])\n",
        "    x = layers.Activation('relu')(x)\n",
        "    return x\n",
        "\n",
        "# Input\n",
        "input_layer = Input(shape=(150, 150, 3))\n",
        "x = layers.Conv2D(32, (3,3), activation='relu', padding='same')(input_layer)\n",
        "x = layers.MaxPooling2D(2,2)(x)\n",
        "\n",
        "# Bloque residual 1\n",
        "x = residual_block(x, 32)\n",
        "x = layers.MaxPooling2D(2,2)(x)\n",
        "\n",
        "# Bloque residual 2\n",
        "x = residual_block(x, 64)\n",
        "x = layers.MaxPooling2D(2,2)(x)\n",
        "\n",
        "# Clasificación\n",
        "x = layers.Flatten()(x)\n",
        "x = layers.Dense(128, activation='relu')(x)\n",
        "x = layers.Dropout(0.5)(x)\n",
        "output_layer = layers.Dense(6, activation='softmax')(x)\n",
        "\n",
        "# Crear y compilar modelo\n",
        "resnet_like_model = models.Model(inputs=input_layer, outputs=output_layer)\n",
        "resnet_like_model.compile(optimizer='adam', loss='sparse_categorical_crossentropy', metrics=['accuracy'])\n",
        "\n",
        "# Callback\n",
        "early_stop_resnet = EarlyStopping(monitor='val_loss', patience=3, restore_best_weights=True)\n",
        "\n",
        "# Entrenar\n",
        "history_resnet = resnet_like_model.fit(\n",
        "    train_generator,\n",
        "    epochs=15,\n",
        "    validation_data=val_generator,\n",
        "    callbacks=[early_stop_resnet]\n",
        ")\n",
        "\n",
        "# Visualizar resultados\n",
        "plt.plot(history_resnet.history['accuracy'], label='Train Accuracy')\n",
        "plt.plot(history_resnet.history['val_accuracy'], label='Val Accuracy')\n",
        "plt.title('Modelo 6: CNN personalizada con bloques residuales')\n",
        "plt.xlabel('Epochs')\n",
        "plt.ylabel('Accuracy')\n",
        "plt.legend()\n",
        "plt.show()"
      ],
      "metadata": {
        "id": "4B5msONhk6CT"
      },
      "id": "4B5msONhk6CT",
      "execution_count": null,
      "outputs": []
    },
    {
      "cell_type": "markdown",
      "id": "405adfb0",
      "metadata": {
        "id": "405adfb0"
      },
      "source": [
        "# Comparativa Resultados\n",
        "\n",
        "## Tabla comparativa"
      ]
    },
    {
      "cell_type": "code",
      "execution_count": null,
      "id": "44efb053",
      "metadata": {
        "id": "44efb053"
      },
      "outputs": [],
      "source": [
        "model_names = ['Base CNN', 'Advanced CNN', 'Tuned Model', 'Transfer Learning', 'Data Augmented']\n",
        "histories = [history_base, history_advanced, tuner.get_best_models()[0].history, history_transfer, history_aug]\n",
        "\n",
        "for i, history in enumerate(histories):\n",
        "    plt.plot(history.history['val_accuracy'], label=model_names[i])\n",
        "plt.title('Validation Accuracy por Modelo')\n",
        "plt.xlabel('Epochs')\n",
        "plt.ylabel('Val Accuracy')\n",
        "plt.legend()\n",
        "plt.grid(True)\n",
        "plt.show()\n"
      ]
    },
    {
      "cell_type": "markdown",
      "id": "0347628b",
      "metadata": {
        "id": "0347628b"
      },
      "source": [
        "## Tabla de evaluación en test"
      ]
    },
    {
      "cell_type": "code",
      "execution_count": null,
      "id": "8c1a22c6",
      "metadata": {
        "id": "8c1a22c6"
      },
      "outputs": [],
      "source": [
        "results = [\n",
        "    ('Base CNN', base_model.evaluate(val_generator)[1]),\n",
        "    ('Advanced CNN', advanced_model.evaluate(val_generator)[1]),\n",
        "    ('Tuned Model', best_model.evaluate(val_generator)[1]),\n",
        "    ('Transfer Learning', transfer_model.evaluate(val_generator)[1]),\n",
        "    ('Data Augmented', aug_model.evaluate(aug_val)[1]),\n",
        "]\n",
        "\n",
        "import pandas as pd\n",
        "df_results = pd.DataFrame(results, columns=['Model_Name', 'Test_Accuracy'])\n",
        "print(df_results)\n"
      ]
    }
  ],
  "metadata": {
    "kernelspec": {
      "display_name": "Python 3 (ipykernel)",
      "language": "python",
      "name": "python3"
    },
    "language_info": {
      "codemirror_mode": {
        "name": "ipython",
        "version": 3
      },
      "file_extension": ".py",
      "mimetype": "text/x-python",
      "name": "python",
      "nbconvert_exporter": "python",
      "pygments_lexer": "ipython3",
      "version": "3.8.5"
    },
    "colab": {
      "provenance": [],
      "include_colab_link": true
    }
  },
  "nbformat": 4,
  "nbformat_minor": 5
}